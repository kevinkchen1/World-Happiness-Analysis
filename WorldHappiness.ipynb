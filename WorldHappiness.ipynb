{
 "cells": [
  {
   "cell_type": "code",
   "execution_count": 2,
   "id": "6867e6e2",
   "metadata": {},
   "outputs": [
    {
     "data": {
      "text/html": [
       "<div>\n",
       "<style scoped>\n",
       "    .dataframe tbody tr th:only-of-type {\n",
       "        vertical-align: middle;\n",
       "    }\n",
       "\n",
       "    .dataframe tbody tr th {\n",
       "        vertical-align: top;\n",
       "    }\n",
       "\n",
       "    .dataframe thead th {\n",
       "        text-align: right;\n",
       "    }\n",
       "</style>\n",
       "<table border=\"1\" class=\"dataframe\">\n",
       "  <thead>\n",
       "    <tr style=\"text-align: right;\">\n",
       "      <th></th>\n",
       "      <th>RANK</th>\n",
       "      <th>Country</th>\n",
       "      <th>Happiness score</th>\n",
       "      <th>Whisker-high</th>\n",
       "      <th>Whisker-low</th>\n",
       "      <th>Dystopia (1.83) + residual</th>\n",
       "      <th>Explained by: GDP per capita</th>\n",
       "      <th>Explained by: Social support</th>\n",
       "      <th>Explained by: Healthy life expectancy</th>\n",
       "      <th>Explained by: Freedom to make life choices</th>\n",
       "      <th>Explained by: Generosity</th>\n",
       "      <th>Explained by: Perceptions of corruption</th>\n",
       "    </tr>\n",
       "  </thead>\n",
       "  <tbody>\n",
       "    <tr>\n",
       "      <th>0</th>\n",
       "      <td>1</td>\n",
       "      <td>Finland</td>\n",
       "      <td>7.821</td>\n",
       "      <td>7.886</td>\n",
       "      <td>7.756</td>\n",
       "      <td>2.518</td>\n",
       "      <td>1.892</td>\n",
       "      <td>1.258</td>\n",
       "      <td>0.775</td>\n",
       "      <td>0.736</td>\n",
       "      <td>0.109</td>\n",
       "      <td>0.534</td>\n",
       "    </tr>\n",
       "    <tr>\n",
       "      <th>1</th>\n",
       "      <td>2</td>\n",
       "      <td>Denmark</td>\n",
       "      <td>7.636</td>\n",
       "      <td>7.710</td>\n",
       "      <td>7.563</td>\n",
       "      <td>2.226</td>\n",
       "      <td>1.953</td>\n",
       "      <td>1.243</td>\n",
       "      <td>0.777</td>\n",
       "      <td>0.719</td>\n",
       "      <td>0.188</td>\n",
       "      <td>0.532</td>\n",
       "    </tr>\n",
       "    <tr>\n",
       "      <th>2</th>\n",
       "      <td>3</td>\n",
       "      <td>Iceland</td>\n",
       "      <td>7.557</td>\n",
       "      <td>7.651</td>\n",
       "      <td>7.464</td>\n",
       "      <td>2.320</td>\n",
       "      <td>1.936</td>\n",
       "      <td>1.320</td>\n",
       "      <td>0.803</td>\n",
       "      <td>0.718</td>\n",
       "      <td>0.270</td>\n",
       "      <td>0.191</td>\n",
       "    </tr>\n",
       "    <tr>\n",
       "      <th>3</th>\n",
       "      <td>4</td>\n",
       "      <td>Switzerland</td>\n",
       "      <td>7.512</td>\n",
       "      <td>7.586</td>\n",
       "      <td>7.437</td>\n",
       "      <td>2.153</td>\n",
       "      <td>2.026</td>\n",
       "      <td>1.226</td>\n",
       "      <td>0.822</td>\n",
       "      <td>0.677</td>\n",
       "      <td>0.147</td>\n",
       "      <td>0.461</td>\n",
       "    </tr>\n",
       "    <tr>\n",
       "      <th>4</th>\n",
       "      <td>5</td>\n",
       "      <td>Netherlands</td>\n",
       "      <td>7.415</td>\n",
       "      <td>7.471</td>\n",
       "      <td>7.359</td>\n",
       "      <td>2.137</td>\n",
       "      <td>1.945</td>\n",
       "      <td>1.206</td>\n",
       "      <td>0.787</td>\n",
       "      <td>0.651</td>\n",
       "      <td>0.271</td>\n",
       "      <td>0.419</td>\n",
       "    </tr>\n",
       "  </tbody>\n",
       "</table>\n",
       "</div>"
      ],
      "text/plain": [
       "   RANK      Country  Happiness score  Whisker-high  Whisker-low  \\\n",
       "0     1      Finland            7.821         7.886        7.756   \n",
       "1     2      Denmark            7.636         7.710        7.563   \n",
       "2     3      Iceland            7.557         7.651        7.464   \n",
       "3     4  Switzerland            7.512         7.586        7.437   \n",
       "4     5  Netherlands            7.415         7.471        7.359   \n",
       "\n",
       "   Dystopia (1.83) + residual  Explained by: GDP per capita  \\\n",
       "0                       2.518                         1.892   \n",
       "1                       2.226                         1.953   \n",
       "2                       2.320                         1.936   \n",
       "3                       2.153                         2.026   \n",
       "4                       2.137                         1.945   \n",
       "\n",
       "   Explained by: Social support  Explained by: Healthy life expectancy  \\\n",
       "0                         1.258                                  0.775   \n",
       "1                         1.243                                  0.777   \n",
       "2                         1.320                                  0.803   \n",
       "3                         1.226                                  0.822   \n",
       "4                         1.206                                  0.787   \n",
       "\n",
       "   Explained by: Freedom to make life choices  Explained by: Generosity  \\\n",
       "0                                       0.736                     0.109   \n",
       "1                                       0.719                     0.188   \n",
       "2                                       0.718                     0.270   \n",
       "3                                       0.677                     0.147   \n",
       "4                                       0.651                     0.271   \n",
       "\n",
       "   Explained by: Perceptions of corruption  \n",
       "0                                    0.534  \n",
       "1                                    0.532  \n",
       "2                                    0.191  \n",
       "3                                    0.461  \n",
       "4                                    0.419  "
      ]
     },
     "execution_count": 2,
     "metadata": {},
     "output_type": "execute_result"
    }
   ],
   "source": [
    "import pandas as pd\n",
    "import numpy as np\n",
    "import matplotlib.pyplot as plt\n",
    "import warnings\n",
    "warnings.filterwarnings('ignore')\n",
    "import seaborn as sns\n",
    "%matplotlib inline\n",
    "sns.set()\n",
    "df = pd.read_csv('world_h22.csv')\n",
    "df.head()"
   ]
  },
  {
   "cell_type": "code",
   "execution_count": 54,
   "id": "0791ac00",
   "metadata": {},
   "outputs": [
    {
     "data": {
      "text/plain": [
       "(146, 12)"
      ]
     },
     "execution_count": 54,
     "metadata": {},
     "output_type": "execute_result"
    }
   ],
   "source": [
    "df.shape"
   ]
  },
  {
   "cell_type": "code",
   "execution_count": 55,
   "id": "958d3878",
   "metadata": {},
   "outputs": [
    {
     "data": {
      "text/plain": [
       "Index(['RANK', 'Country', 'Happiness score', 'Whisker-high', 'Whisker-low',\n",
       "       'Dystopia (1.83) + residual', 'Explained by: GDP per capita',\n",
       "       'Explained by: Social support', 'Explained by: Healthy life expectancy',\n",
       "       'Explained by: Freedom to make life choices',\n",
       "       'Explained by: Generosity', 'Explained by: Perceptions of corruption'],\n",
       "      dtype='object')"
      ]
     },
     "execution_count": 55,
     "metadata": {},
     "output_type": "execute_result"
    }
   ],
   "source": [
    "df.columns"
   ]
  },
  {
   "cell_type": "code",
   "execution_count": 56,
   "id": "85328a33",
   "metadata": {},
   "outputs": [
    {
     "data": {
      "text/html": [
       "<div>\n",
       "<style scoped>\n",
       "    .dataframe tbody tr th:only-of-type {\n",
       "        vertical-align: middle;\n",
       "    }\n",
       "\n",
       "    .dataframe tbody tr th {\n",
       "        vertical-align: top;\n",
       "    }\n",
       "\n",
       "    .dataframe thead th {\n",
       "        text-align: right;\n",
       "    }\n",
       "</style>\n",
       "<table border=\"1\" class=\"dataframe\">\n",
       "  <thead>\n",
       "    <tr style=\"text-align: right;\">\n",
       "      <th></th>\n",
       "      <th>RANK</th>\n",
       "      <th>Country</th>\n",
       "      <th>Happiness score</th>\n",
       "      <th>Whisker-high</th>\n",
       "      <th>Whisker-low</th>\n",
       "      <th>Dystopia (1.83) + residual</th>\n",
       "      <th>Explained by: GDP per capita</th>\n",
       "      <th>Explained by: Social support</th>\n",
       "      <th>Explained by: Healthy life expectancy</th>\n",
       "      <th>Explained by: Freedom to make life choices</th>\n",
       "      <th>Explained by: Generosity</th>\n",
       "      <th>Explained by: Perceptions of corruption</th>\n",
       "    </tr>\n",
       "  </thead>\n",
       "  <tbody>\n",
       "    <tr>\n",
       "      <th>145</th>\n",
       "      <td>146</td>\n",
       "      <td>Afghanistan</td>\n",
       "      <td>2.404</td>\n",
       "      <td>2.469</td>\n",
       "      <td>2.339</td>\n",
       "      <td>1.263</td>\n",
       "      <td>0.758</td>\n",
       "      <td>0.000</td>\n",
       "      <td>0.289</td>\n",
       "      <td>0.000</td>\n",
       "      <td>0.089</td>\n",
       "      <td>0.005</td>\n",
       "    </tr>\n",
       "    <tr>\n",
       "      <th>144</th>\n",
       "      <td>145</td>\n",
       "      <td>Lebanon</td>\n",
       "      <td>2.955</td>\n",
       "      <td>3.049</td>\n",
       "      <td>2.862</td>\n",
       "      <td>0.216</td>\n",
       "      <td>1.392</td>\n",
       "      <td>0.498</td>\n",
       "      <td>0.631</td>\n",
       "      <td>0.103</td>\n",
       "      <td>0.082</td>\n",
       "      <td>0.034</td>\n",
       "    </tr>\n",
       "    <tr>\n",
       "      <th>143</th>\n",
       "      <td>144</td>\n",
       "      <td>Zimbabwe</td>\n",
       "      <td>2.995</td>\n",
       "      <td>3.110</td>\n",
       "      <td>2.880</td>\n",
       "      <td>0.548</td>\n",
       "      <td>0.947</td>\n",
       "      <td>0.690</td>\n",
       "      <td>0.270</td>\n",
       "      <td>0.329</td>\n",
       "      <td>0.106</td>\n",
       "      <td>0.105</td>\n",
       "    </tr>\n",
       "    <tr>\n",
       "      <th>142</th>\n",
       "      <td>143</td>\n",
       "      <td>Rwanda*</td>\n",
       "      <td>3.268</td>\n",
       "      <td>3.462</td>\n",
       "      <td>3.074</td>\n",
       "      <td>0.536</td>\n",
       "      <td>0.785</td>\n",
       "      <td>0.133</td>\n",
       "      <td>0.462</td>\n",
       "      <td>0.621</td>\n",
       "      <td>0.187</td>\n",
       "      <td>0.544</td>\n",
       "    </tr>\n",
       "    <tr>\n",
       "      <th>141</th>\n",
       "      <td>142</td>\n",
       "      <td>Botswana*</td>\n",
       "      <td>3.471</td>\n",
       "      <td>3.667</td>\n",
       "      <td>3.275</td>\n",
       "      <td>0.187</td>\n",
       "      <td>1.503</td>\n",
       "      <td>0.815</td>\n",
       "      <td>0.280</td>\n",
       "      <td>0.571</td>\n",
       "      <td>0.012</td>\n",
       "      <td>0.102</td>\n",
       "    </tr>\n",
       "    <tr>\n",
       "      <th>...</th>\n",
       "      <td>...</td>\n",
       "      <td>...</td>\n",
       "      <td>...</td>\n",
       "      <td>...</td>\n",
       "      <td>...</td>\n",
       "      <td>...</td>\n",
       "      <td>...</td>\n",
       "      <td>...</td>\n",
       "      <td>...</td>\n",
       "      <td>...</td>\n",
       "      <td>...</td>\n",
       "      <td>...</td>\n",
       "    </tr>\n",
       "    <tr>\n",
       "      <th>4</th>\n",
       "      <td>5</td>\n",
       "      <td>Netherlands</td>\n",
       "      <td>7.415</td>\n",
       "      <td>7.471</td>\n",
       "      <td>7.359</td>\n",
       "      <td>2.137</td>\n",
       "      <td>1.945</td>\n",
       "      <td>1.206</td>\n",
       "      <td>0.787</td>\n",
       "      <td>0.651</td>\n",
       "      <td>0.271</td>\n",
       "      <td>0.419</td>\n",
       "    </tr>\n",
       "    <tr>\n",
       "      <th>3</th>\n",
       "      <td>4</td>\n",
       "      <td>Switzerland</td>\n",
       "      <td>7.512</td>\n",
       "      <td>7.586</td>\n",
       "      <td>7.437</td>\n",
       "      <td>2.153</td>\n",
       "      <td>2.026</td>\n",
       "      <td>1.226</td>\n",
       "      <td>0.822</td>\n",
       "      <td>0.677</td>\n",
       "      <td>0.147</td>\n",
       "      <td>0.461</td>\n",
       "    </tr>\n",
       "    <tr>\n",
       "      <th>2</th>\n",
       "      <td>3</td>\n",
       "      <td>Iceland</td>\n",
       "      <td>7.557</td>\n",
       "      <td>7.651</td>\n",
       "      <td>7.464</td>\n",
       "      <td>2.320</td>\n",
       "      <td>1.936</td>\n",
       "      <td>1.320</td>\n",
       "      <td>0.803</td>\n",
       "      <td>0.718</td>\n",
       "      <td>0.270</td>\n",
       "      <td>0.191</td>\n",
       "    </tr>\n",
       "    <tr>\n",
       "      <th>1</th>\n",
       "      <td>2</td>\n",
       "      <td>Denmark</td>\n",
       "      <td>7.636</td>\n",
       "      <td>7.710</td>\n",
       "      <td>7.563</td>\n",
       "      <td>2.226</td>\n",
       "      <td>1.953</td>\n",
       "      <td>1.243</td>\n",
       "      <td>0.777</td>\n",
       "      <td>0.719</td>\n",
       "      <td>0.188</td>\n",
       "      <td>0.532</td>\n",
       "    </tr>\n",
       "    <tr>\n",
       "      <th>0</th>\n",
       "      <td>1</td>\n",
       "      <td>Finland</td>\n",
       "      <td>7.821</td>\n",
       "      <td>7.886</td>\n",
       "      <td>7.756</td>\n",
       "      <td>2.518</td>\n",
       "      <td>1.892</td>\n",
       "      <td>1.258</td>\n",
       "      <td>0.775</td>\n",
       "      <td>0.736</td>\n",
       "      <td>0.109</td>\n",
       "      <td>0.534</td>\n",
       "    </tr>\n",
       "  </tbody>\n",
       "</table>\n",
       "<p>146 rows × 12 columns</p>\n",
       "</div>"
      ],
      "text/plain": [
       "     RANK      Country  Happiness score  Whisker-high  Whisker-low  \\\n",
       "145   146  Afghanistan            2.404         2.469        2.339   \n",
       "144   145      Lebanon            2.955         3.049        2.862   \n",
       "143   144     Zimbabwe            2.995         3.110        2.880   \n",
       "142   143      Rwanda*            3.268         3.462        3.074   \n",
       "141   142    Botswana*            3.471         3.667        3.275   \n",
       "..    ...          ...              ...           ...          ...   \n",
       "4       5  Netherlands            7.415         7.471        7.359   \n",
       "3       4  Switzerland            7.512         7.586        7.437   \n",
       "2       3      Iceland            7.557         7.651        7.464   \n",
       "1       2      Denmark            7.636         7.710        7.563   \n",
       "0       1      Finland            7.821         7.886        7.756   \n",
       "\n",
       "     Dystopia (1.83) + residual  Explained by: GDP per capita  \\\n",
       "145                       1.263                         0.758   \n",
       "144                       0.216                         1.392   \n",
       "143                       0.548                         0.947   \n",
       "142                       0.536                         0.785   \n",
       "141                       0.187                         1.503   \n",
       "..                          ...                           ...   \n",
       "4                         2.137                         1.945   \n",
       "3                         2.153                         2.026   \n",
       "2                         2.320                         1.936   \n",
       "1                         2.226                         1.953   \n",
       "0                         2.518                         1.892   \n",
       "\n",
       "     Explained by: Social support  Explained by: Healthy life expectancy  \\\n",
       "145                         0.000                                  0.289   \n",
       "144                         0.498                                  0.631   \n",
       "143                         0.690                                  0.270   \n",
       "142                         0.133                                  0.462   \n",
       "141                         0.815                                  0.280   \n",
       "..                            ...                                    ...   \n",
       "4                           1.206                                  0.787   \n",
       "3                           1.226                                  0.822   \n",
       "2                           1.320                                  0.803   \n",
       "1                           1.243                                  0.777   \n",
       "0                           1.258                                  0.775   \n",
       "\n",
       "     Explained by: Freedom to make life choices  Explained by: Generosity  \\\n",
       "145                                       0.000                     0.089   \n",
       "144                                       0.103                     0.082   \n",
       "143                                       0.329                     0.106   \n",
       "142                                       0.621                     0.187   \n",
       "141                                       0.571                     0.012   \n",
       "..                                          ...                       ...   \n",
       "4                                         0.651                     0.271   \n",
       "3                                         0.677                     0.147   \n",
       "2                                         0.718                     0.270   \n",
       "1                                         0.719                     0.188   \n",
       "0                                         0.736                     0.109   \n",
       "\n",
       "     Explained by: Perceptions of corruption  \n",
       "145                                    0.005  \n",
       "144                                    0.034  \n",
       "143                                    0.105  \n",
       "142                                    0.544  \n",
       "141                                    0.102  \n",
       "..                                       ...  \n",
       "4                                      0.419  \n",
       "3                                      0.461  \n",
       "2                                      0.191  \n",
       "1                                      0.532  \n",
       "0                                      0.534  \n",
       "\n",
       "[146 rows x 12 columns]"
      ]
     },
     "execution_count": 56,
     "metadata": {},
     "output_type": "execute_result"
    }
   ],
   "source": [
    "df.sort_values(by = 'Happiness score', ascending = True)"
   ]
  },
  {
   "cell_type": "markdown",
   "id": "fe76b479",
   "metadata": {},
   "source": [
    "\n",
    "Just from looking at the first and last 5 rows, it is clear that a higher **Dystopia(1.83) + residual**, ***GDP per capita**, **Social Support** and **Healthy life expectancy** generally leads to a higher Happiness score along with higher Whisker highs and Whisker lows, leading to a higher rank on the World Happiness ranking list.\n",
    "\n",
    "<hr>"
   ]
  },
  {
   "cell_type": "code",
   "execution_count": 57,
   "id": "6f36850f",
   "metadata": {},
   "outputs": [
    {
     "data": {
      "text/html": [
       "<div>\n",
       "<style scoped>\n",
       "    .dataframe tbody tr th:only-of-type {\n",
       "        vertical-align: middle;\n",
       "    }\n",
       "\n",
       "    .dataframe tbody tr th {\n",
       "        vertical-align: top;\n",
       "    }\n",
       "\n",
       "    .dataframe thead th {\n",
       "        text-align: right;\n",
       "    }\n",
       "</style>\n",
       "<table border=\"1\" class=\"dataframe\">\n",
       "  <thead>\n",
       "    <tr style=\"text-align: right;\">\n",
       "      <th></th>\n",
       "      <th>Happiness score</th>\n",
       "      <th>Explained by: GDP per capita</th>\n",
       "    </tr>\n",
       "  </thead>\n",
       "  <tbody>\n",
       "    <tr>\n",
       "      <th>0</th>\n",
       "      <td>7.821</td>\n",
       "      <td>1.892</td>\n",
       "    </tr>\n",
       "    <tr>\n",
       "      <th>1</th>\n",
       "      <td>7.636</td>\n",
       "      <td>1.953</td>\n",
       "    </tr>\n",
       "    <tr>\n",
       "      <th>2</th>\n",
       "      <td>7.557</td>\n",
       "      <td>1.936</td>\n",
       "    </tr>\n",
       "    <tr>\n",
       "      <th>3</th>\n",
       "      <td>7.512</td>\n",
       "      <td>2.026</td>\n",
       "    </tr>\n",
       "    <tr>\n",
       "      <th>4</th>\n",
       "      <td>7.415</td>\n",
       "      <td>1.945</td>\n",
       "    </tr>\n",
       "  </tbody>\n",
       "</table>\n",
       "</div>"
      ],
      "text/plain": [
       "   Happiness score  Explained by: GDP per capita\n",
       "0            7.821                         1.892\n",
       "1            7.636                         1.953\n",
       "2            7.557                         1.936\n",
       "3            7.512                         2.026\n",
       "4            7.415                         1.945"
      ]
     },
     "execution_count": 57,
     "metadata": {},
     "output_type": "execute_result"
    }
   ],
   "source": [
    "df[['Happiness score','Explained by: GDP per capita']].head()"
   ]
  },
  {
   "cell_type": "code",
   "execution_count": 3,
   "id": "5e316343",
   "metadata": {},
   "outputs": [
    {
     "data": {
      "text/plain": [
       "<seaborn.axisgrid.FacetGrid at 0x7f8ff0e75f10>"
      ]
     },
     "execution_count": 3,
     "metadata": {},
     "output_type": "execute_result"
    },
    {
     "data": {
      "image/png": "[encoded data removed]",
      "text/plain": [
       "<Figure size 360x360 with 1 Axes>"
      ]
     },
     "metadata": {},
     "output_type": "display_data"
    }
   ],
   "source": [
    "sns.relplot(x = 'Explained by: Healthy life expectancy', y = 'Happiness score', data = df)"
   ]
  },
  {
   "cell_type": "code",
   "execution_count": 59,
   "id": "65c634fb",
   "metadata": {},
   "outputs": [],
   "source": [
    "#df['Explained by: Freedom to make life choices']= df['Explained by: Freedom to make life choices'].round(0)\n",
    "#df['Explained by: Freedom to make life choices'].head()"
   ]
  },
  {
   "cell_type": "code",
   "execution_count": 60,
   "id": "9b2842f4",
   "metadata": {},
   "outputs": [
    {
     "data": {
      "text/plain": [
       "<seaborn.axisgrid.FacetGrid at 0x7fdec5738910>"
      ]
     },
     "execution_count": 60,
     "metadata": {},
     "output_type": "execute_result"
    },
    {
     "data": {
      "image/png": "[encoded data removed]",
      "text/plain": [
       "<Figure size 360x360 with 1 Axes>"
      ]
     },
     "metadata": {},
     "output_type": "display_data"
    }
   ],
   "source": [
    "sns.catplot(x='Happiness score', y = 'Explained by: GDP per capita',kind = 'swarm', data = df)"
   ]
  },
  {
   "cell_type": "code",
   "execution_count": 61,
   "id": "0aa4f5d5",
   "metadata": {},
   "outputs": [],
   "source": [
    "#pd.crosstab(df['Happiness score'],df['Explained by: Generosity', index]).head()"
   ]
  },
  {
   "cell_type": "code",
   "execution_count": 62,
   "id": "5fac8c68",
   "metadata": {},
   "outputs": [
    {
     "data": {
      "text/plain": [
       "<seaborn.axisgrid.FacetGrid at 0x7fdee086aa30>"
      ]
     },
     "execution_count": 62,
     "metadata": {},
     "output_type": "execute_result"
    },
    {
     "data": {
      "image/png": "[encoded data removed]",
      "text/plain": [
       "<Figure size 360x360 with 1 Axes>"
      ]
     },
     "metadata": {},
     "output_type": "display_data"
    }
   ],
   "source": [
    "sns.relplot(x='Explained by: Generosity', y = 'Happiness score', data = df,)"
   ]
  },
  {
   "cell_type": "markdown",
   "id": "fdc7ca3c",
   "metadata": {},
   "source": [
    "<hr>\n",
    "We can see that Generosity seems to have no impact on the Happiness score of a country\n",
    "<hr>"
   ]
  },
  {
   "cell_type": "code",
   "execution_count": 63,
   "id": "cd5dd257",
   "metadata": {},
   "outputs": [
    {
     "data": {
      "text/plain": [
       "<seaborn.axisgrid.FacetGrid at 0x7fdee088ca00>"
      ]
     },
     "execution_count": 63,
     "metadata": {},
     "output_type": "execute_result"
    },
    {
     "data": {
      "image/png": "[encoded data removed]",
      "text/plain": [
       "<Figure size 360x360 with 1 Axes>"
      ]
     },
     "metadata": {},
     "output_type": "display_data"
    }
   ],
   "source": [
    "sns.relplot(x = 'Explained by: Freedom to make life choices', y ='Happiness score', data = df)"
   ]
  },
  {
   "cell_type": "markdown",
   "id": "0e87b9c6",
   "metadata": {},
   "source": [
    "There seems to be a relationship between the Freedom to make life choices and the Happiness score of a country. However, there are still many points that are off the line of best fit meaning that this factor doesn't have as strong of an effect on Happiness score as other factors.\n",
    "\n",
    "<hr>"
   ]
  },
  {
   "cell_type": "code",
   "execution_count": 64,
   "id": "5d5c8974",
   "metadata": {},
   "outputs": [
    {
     "data": {
      "text/plain": [
       "<AxesSubplot:xlabel='Explained by: GDP per capita'>"
      ]
     },
     "execution_count": 64,
     "metadata": {},
     "output_type": "execute_result"
    },
    {
     "data": {
      "image/png": "[encoded data removed]",
      "text/plain": [
       "<Figure size 432x288 with 1 Axes>"
      ]
     },
     "metadata": {},
     "output_type": "display_data"
    }
   ],
   "source": [
    "sns.boxplot(df['Explained by: GDP per capita'])"
   ]
  },
  {
   "cell_type": "markdown",
   "id": "d4da0177",
   "metadata": {},
   "source": [
    "There is one outlier with a GDP per capita of zero. However, this country is not last on the World Happiness Ranking."
   ]
  },
  {
   "cell_type": "code",
   "execution_count": 65,
   "id": "190fd70f",
   "metadata": {},
   "outputs": [
    {
     "data": {
      "text/html": [
       "<div>\n",
       "<style scoped>\n",
       "    .dataframe tbody tr th:only-of-type {\n",
       "        vertical-align: middle;\n",
       "    }\n",
       "\n",
       "    .dataframe tbody tr th {\n",
       "        vertical-align: top;\n",
       "    }\n",
       "\n",
       "    .dataframe thead th {\n",
       "        text-align: right;\n",
       "    }\n",
       "</style>\n",
       "<table border=\"1\" class=\"dataframe\">\n",
       "  <thead>\n",
       "    <tr style=\"text-align: right;\">\n",
       "      <th></th>\n",
       "      <th>RANK</th>\n",
       "      <th>Country</th>\n",
       "      <th>Happiness score</th>\n",
       "      <th>Whisker-high</th>\n",
       "      <th>Whisker-low</th>\n",
       "      <th>Dystopia (1.83) + residual</th>\n",
       "      <th>GDP_per_capita</th>\n",
       "      <th>Explained by: Social support</th>\n",
       "      <th>Explained by: Healthy life expectancy</th>\n",
       "      <th>Explained by: Freedom to make life choices</th>\n",
       "      <th>Explained by: Generosity</th>\n",
       "      <th>Explained by: Perceptions of corruption</th>\n",
       "    </tr>\n",
       "  </thead>\n",
       "  <tbody>\n",
       "    <tr>\n",
       "      <th>107</th>\n",
       "      <td>108</td>\n",
       "      <td>Venezuela</td>\n",
       "      <td>4.925</td>\n",
       "      <td>5.051</td>\n",
       "      <td>4.8</td>\n",
       "      <td>2.79</td>\n",
       "      <td>0.0</td>\n",
       "      <td>0.968</td>\n",
       "      <td>0.578</td>\n",
       "      <td>0.283</td>\n",
       "      <td>0.225</td>\n",
       "      <td>0.082</td>\n",
       "    </tr>\n",
       "  </tbody>\n",
       "</table>\n",
       "</div>"
      ],
      "text/plain": [
       "     RANK    Country  Happiness score  Whisker-high  Whisker-low  \\\n",
       "107   108  Venezuela            4.925         5.051          4.8   \n",
       "\n",
       "     Dystopia (1.83) + residual  GDP_per_capita  Explained by: Social support  \\\n",
       "107                        2.79             0.0                         0.968   \n",
       "\n",
       "     Explained by: Healthy life expectancy  \\\n",
       "107                                  0.578   \n",
       "\n",
       "     Explained by: Freedom to make life choices  Explained by: Generosity  \\\n",
       "107                                       0.283                     0.225   \n",
       "\n",
       "     Explained by: Perceptions of corruption  \n",
       "107                                    0.082  "
      ]
     },
     "execution_count": 65,
     "metadata": {},
     "output_type": "execute_result"
    }
   ],
   "source": [
    "df = df.rename(columns={'Explained by: GDP per capita':'GDP_per_capita'})\n",
    "df[df.GDP_per_capita == 0]\n"
   ]
  },
  {
   "cell_type": "code",
   "execution_count": 67,
   "id": "9e7db83a",
   "metadata": {},
   "outputs": [
    {
     "data": {
      "text/plain": [
       "<seaborn.axisgrid.FacetGrid at 0x7fdec578db20>"
      ]
     },
     "execution_count": 67,
     "metadata": {},
     "output_type": "execute_result"
    },
    {
     "data": {
      "image/png": "[encoded data removed]",
      "text/plain": [
       "<Figure size 360x360 with 1 Axes>"
      ]
     },
     "metadata": {},
     "output_type": "display_data"
    },
    {
     "data": {
      "image/png": "[encoded data removed]",
      "text/plain": [
       "<Figure size 360x360 with 1 Axes>"
      ]
     },
     "metadata": {},
     "output_type": "display_data"
    }
   ],
   "source": [
    "sns.relplot(x = 'Explained by: Social support', y ='Happiness score', data = df)\n",
    "sns.relplot(x = 'Explained by: Perceptions of corruption' , y ='Happiness score', data = df)\n",
    "sns.relplot(x = 'Explained by: ' , y ='Happiness score', data = df)"
   ]
  },
  {
   "cell_type": "markdown",
   "id": "bd0a30cd",
   "metadata": {},
   "source": [
    "Perceptions of corruption do not seem have much impact on a country's world happiness score as there is no clear correlation between the two variables."
   ]
  }
 ],
 "metadata": {
  "kernelspec": {
   "display_name": "Python 3 (ipykernel)",
   "language": "python",
   "name": "python3"
  },
  "language_info": {
   "codemirror_mode": {
    "name": "ipython",
    "version": 3
   },
   "file_extension": ".py",
   "mimetype": "text/x-python",
   "name": "python",
   "nbconvert_exporter": "python",
   "pygments_lexer": "ipython3",
   "version": "3.9.12"
  }
 },
 "nbformat": 4,
 "nbformat_minor": 5
}
